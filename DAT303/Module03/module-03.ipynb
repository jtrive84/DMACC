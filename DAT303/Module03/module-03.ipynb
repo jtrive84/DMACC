{
 "cells": [
  {
   "cell_type": "markdown",
   "metadata": {},
   "source": [
    "### DAT303 - Spring 2024 - Module 3 Notebook\n",
    "---\n",
    "Name:    \n",
    "Date:"
   ]
  },
  {
   "cell_type": "markdown",
   "metadata": {},
   "source": [
    "> It is assumed you are using the module3 conda environment specified in the *module3.yaml* file downloaded from Canvas. Be sure to read all cells in this notebook. You are only to provide code in cells that contain `##### YOUR CODE HERE #####` and written responses in cells that contain `YOUR WRITTEN RESPONSE HERE`. Ensure that code cells are executed sequentially to prevent unexpected errors.\n"
   ]
  },
  {
   "cell_type": "markdown",
   "metadata": {},
   "source": [
    "\n",
    "## Geospatial Data Science\n",
    "\n",
    "Learning geospatial data science is crucial in today's data-driven world for several reasons. Geospatial data science enables individuals to understand and analyze complex spatial phenomena, including natural disasters, urbanization, climate change, and environmental degradation. By gaining familiarity with geospatial analysis techniques, individuals can gain insights into spatial patterns, relationships and processes, which is essential for making informed decisions.\n",
    "\n",
    "Moreover, geospatial data science provides valuable skills and knowledge that are highly relevant across various domains and industries. From urban planning and environmental management to public health and disaster response, proficiency in geospatial data science opens up diverse career opportunities and enhances professional development prospects.\n",
    "\n",
    "Additionally, learning geospatial data science fosters critical thinking, problem-solving, and interdisciplinary collaboration skills. It requires learners to integrate spatial data from multiple sources, apply statistical and computational methods, and communicate findings effectively to diverse stakeholders.\n",
    "\n",
    "Furthermore, as the availability and complexity of geospatial data continue to grow with advancements in technology and data collection methods, the demand for skilled geospatial data scientists is expected to rise. Therefore, investing in learning geospatial data science equips individuals with valuable skills that are not only relevant today but also increasingly essential for future career success.\n",
    "\n",
    "In this module, geospatial concepts are introduced via two popular Python libraries: **Folium** and **GeoPandas**. We begin with folium. \n",
    "\n",
    "\n",
    "### Folium \n",
    "\n",
    "> Read the Folium [getting started page](https://python-visualization.github.io/folium/latest/getting_started.html) before continuing. \n",
    "\n",
    "\n",
    "Folium is a Python library used for visualizing geospatial data interactively on web maps. Leveraging the capabilities of Leaflet.js, Folium allows users to create maps directly within Python code, making it an accessible and powerful tool for geospatial visualization and analysis.\n",
    "\n",
    "With Folium, users can create various types of interactive maps, including point maps, choropleth maps, heatmaps, and vector overlays, by simply specifying geographic coordinates and map styling options. The library provides intuitive APIs for customizing map features such as markers, popups, tooltips, legends, and map layers, enabling users to create visually appealing and informative maps with ease.\n",
    "\n",
    "Folium seamlessly integrates with other popular Python libraries such as Pandas and Matplotlib, allowing users to visualize geospatial data stored in DataFrame objects or plot data directly onto Folium maps. It also supports various tile providers and basemaps, enabling users to choose from a wide range of map styles and sources.\n",
    "\n",
    "\n",
    "### Creating Interactive Maps in Folium\n",
    "\n",
    "Creating maps with folium is straightforward. We simply pass the latitude and longitude of the point of interest (POI) and\n",
    "specify a zoom level. We can then drop a marker on the point of interest, and interact with the map however we'd like. \n",
    "\n",
    "We can get the latitude and longitude for a given POI by performing a google search. Latitude ranges from -90 to 90 degrees, longitude from -180 to 180 degrees. The latitude and longitude for the DMACC Ankeny campus is **(41.5996, -93.6276)**, which is **(latitude, longitude)**. Note that for US coordinates, the longitude will always be negative. An illustration is provided below:\n",
    "\n",
    "\n",
    "![img01](https://c.tadst.com/gfx/1200x675/longitude-and-latitude-simple.png?1)"
   ]
  },
  {
   "cell_type": "markdown",
   "metadata": {},
   "source": [
    "To illustrate, let's render a map over the park I used to play at as a child (Durkin Park on the southwest side of Chicago). Note that zoom level provides more detail as the number gets larger. A zoom level of 4 would show the entire US; a zoom level of 17 would render roughly a city block:"
   ]
  },
  {
   "cell_type": "code",
   "execution_count": null,
   "metadata": {},
   "outputs": [],
   "source": [
    "\n",
    "import folium\n",
    "\n",
    "# Latitude and longitude for Durkin Park, 84th & Kolin Ave, Chicago IL. \n",
    "lat = 41.739\n",
    "lon = -87.729\n",
    "zoom = 18\n",
    "\n",
    "m = folium.Map(location=[lat, lon], zoom_start=zoom)\n",
    "folium.Marker(location=[lat, lon]).add_to(m)\n",
    "\n",
    "m\n"
   ]
  },
  {
   "cell_type": "markdown",
   "metadata": {},
   "source": [
    "A few things to note about the code used to render the map:\n",
    "\n",
    "* We start by importing the folium library.\n",
    "* The lat/lon for Durkin Park was obtained by a simple google search.\n",
    "* I used a level 18 zoom but this is not necessary since the map is dynamic and can be resized. \n",
    "* To add the marker to the map, we call `.add_to(m)`.\n",
    "* We included `m` by itself in the last line of the cell in order for the map to render. Without doing this, the map would not display. \n",
    "\n",
    "\n",
    "We can change the color of the marker by passing an additional argument into `folium.Marker`. I'll place a second marker in another park I used to visit when I was younger, Scottsdale Park. I'll make this second marker red. \n"
   ]
  },
  {
   "cell_type": "code",
   "execution_count": null,
   "metadata": {},
   "outputs": [],
   "source": [
    "\n",
    "# Durkin Park coordinates.\n",
    "lat0 = 41.739\n",
    "lon0 = -87.729\n",
    "\n",
    "# Scottsdale Park coordinates. \n",
    "lat1 = 41.7416\n",
    "lon1 = -87.7356\n",
    "\n",
    "# Center map at midway point between parks.\n",
    "mid_lat = (lat0 + lat1) / 2\n",
    "mid_lon = (lon0 + lon1) / 2\n",
    "\n",
    "# Specify zoom level. \n",
    "zoom = 16\n",
    "\n",
    "# Initialize map.\n",
    "m = folium.Map(location=[mid_lat, mid_lon], zoom_start=zoom)\n",
    "\n",
    "# Add Durkin Park marker.\n",
    "folium.Marker(\n",
    "    location=[lat0, lon0],\n",
    "    popup=\"Durkin Park\",\n",
    "    ).add_to(m)\n",
    "\n",
    "# Add Scottsdale Park marker.\n",
    "folium.Marker(\n",
    "    location=[lat1, lon1],\n",
    "    popup=\"Scottsdale Park\",\n",
    "    icon=folium.Icon(color=\"red\")\n",
    "    ).add_to(m)\n",
    "\n",
    "m\n"
   ]
  },
  {
   "cell_type": "markdown",
   "metadata": {},
   "source": [
    "Notice that the `popup` argument was supplied to `folium.Marker`. Now when we click on the markers, whatever text we supply to `popup` will be shown on the map. \n",
    "\n",
    "We can connect the markers in the map by using `folium.PolyLine`. We pass it a list of lat/lon pairs, and it draws a line connecting the points. Let's connect the two parks with a green line: "
   ]
  },
  {
   "cell_type": "code",
   "execution_count": null,
   "metadata": {},
   "outputs": [],
   "source": [
    "\n",
    "# Durkin Park coordinates.\n",
    "lat0 = 41.739\n",
    "lon0 = -87.729\n",
    "\n",
    "# Scottsdale Park coordinates. \n",
    "lat1 = 41.7416\n",
    "lon1 = -87.7356\n",
    "\n",
    "# Center map at midway point between parks.\n",
    "mid_lat = (lat0 + lat1) / 2\n",
    "mid_lon = (lon0 + lon1) / 2\n",
    "\n",
    "# Specify zoom level. \n",
    "zoom = 16\n",
    "\n",
    "# Initialize map.\n",
    "m = folium.Map(location=[mid_lat, mid_lon], zoom_start=zoom)\n",
    "\n",
    "# Add Durkin Park marker.\n",
    "folium.Marker(\n",
    "    location=[lat0, lon0],\n",
    "    popup=\"Durkin Park\",\n",
    "    ).add_to(m)\n",
    "\n",
    "# Add Scottsdale Park marker.\n",
    "folium.Marker(\n",
    "    location=[lat1, lon1],\n",
    "    popup=\"Scottsdale Park\",\n",
    "    icon=folium.Icon(color=\"red\")\n",
    "    ).add_to(m)\n",
    "\n",
    "# Connect parks with green line. \n",
    "points = [(lat0, lon0), (lat1, lon1)]\n",
    "folium.PolyLine(points, color=\"green\").add_to(m)\n",
    "\n",
    "m"
   ]
  },
  {
   "cell_type": "markdown",
   "metadata": {},
   "source": [
    "One final point: We can replace the standard markers with circle markers by using `folium.CircleMarker`. `radius` controls the size of the markers and `color/fill_color` set the color of the marker:\n"
   ]
  },
  {
   "cell_type": "code",
   "execution_count": null,
   "metadata": {},
   "outputs": [],
   "source": [
    "\n",
    "m = folium.Map(location=[mid_lat, mid_lon], zoom_start=zoom)\n",
    "\n",
    "# Add Durkin Park circle marker.\n",
    "folium.CircleMarker(\n",
    "    location=[lat0, lon0], \n",
    "    radius=7, \n",
    "    popup=\"Durkin Park\",\n",
    "    color=\"red\", \n",
    "    fill_color=\"red\", \n",
    "    fill=True,\n",
    "    fill_opacity=1\n",
    "    ).add_to(m)\n",
    "\n",
    "# Add Scottsdale Park marker.\n",
    "folium.CircleMarker(\n",
    "    location=[lat1, lon1], \n",
    "    radius=7, \n",
    "    popup=\"Scottsdale Park\",\n",
    "    color=\"red\", \n",
    "    fill_color=\"red\", \n",
    "    fill=True,\n",
    "    fill_opacity=1\n",
    "    ).add_to(m)\n",
    "\n",
    "\n",
    "# Connect parks with green line. \n",
    "points = [(lat0, lon0), (lat1, lon1)]\n",
    "folium.PolyLine(points, color=\"green\").add_to(m)\n",
    "\n",
    "m"
   ]
  },
  {
   "cell_type": "markdown",
   "metadata": {},
   "source": [
    "Answer the following questions. Replace `# YOUR CODE HERE #` with your solutions."
   ]
  },
  {
   "cell_type": "markdown",
   "metadata": {},
   "source": [
    "1. Place a purple marker on the State of Iowa Capital Building. Be sure to add a popup. Render the map."
   ]
  },
  {
   "cell_type": "code",
   "execution_count": null,
   "metadata": {},
   "outputs": [],
   "source": [
    "\n",
    "##### YOUR CODE HERE #####\n"
   ]
  },
  {
   "cell_type": "markdown",
   "metadata": {},
   "source": [
    "\n",
    "2. Place a red marker on Saylorville Lake. Be sure to add a popup. Render the map.\n"
   ]
  },
  {
   "cell_type": "code",
   "execution_count": null,
   "metadata": {},
   "outputs": [],
   "source": [
    "\n",
    "##### YOUR CODE HERE #####\n"
   ]
  },
  {
   "cell_type": "markdown",
   "metadata": {},
   "source": [
    "3. Choose any third location in the State of Iowa as an orange marker with an appropriate popup, and render it along with the other two points. "
   ]
  },
  {
   "cell_type": "code",
   "execution_count": null,
   "metadata": {},
   "outputs": [],
   "source": [
    "\n",
    "##### YOUR CODE HERE #####\n"
   ]
  },
  {
   "cell_type": "markdown",
   "metadata": {},
   "source": [
    "4. Connect all three points using a **dashed grey line**, and experiment with the zoom level to ensure all three points are visible. Render the map (**hint**: to use a dashed line, look into the `PolyLine` `dash_array` argument).\n"
   ]
  },
  {
   "cell_type": "code",
   "execution_count": null,
   "metadata": {},
   "outputs": [],
   "source": [
    "\n",
    "##### YOUR CODE HERE #####\n"
   ]
  },
  {
   "cell_type": "markdown",
   "metadata": {},
   "source": [
    "5. The International Space Station (ISS) is a collaborative effort among multiple nations, serving as a hub for scientific research and international cooperation in space exploration. The ISS orbits the Earth at an astonishing speed of approximately 17,500 miles per hour, completing an orbit around the planet approximately every 90 minutes.  \n",
    "\n",
    "The `coords` list in the next cell represents the position as latitude-longitude pairs of the ISS sampled every minute for 20 minutes. Render each of the 20 points as red circle markers connected by a red dashed line. Experiment with the zoom level to ensure all points are visible. Render the map (**hint**: it is not necessary to call `folium.CircleMarker` 20 times: Use a for loop to iterate over the `coords` list)."
   ]
  },
  {
   "cell_type": "code",
   "execution_count": null,
   "metadata": {},
   "outputs": [],
   "source": [
    "\n",
    "coords = [\n",
    "    (50.4183, -35.337),\n",
    "    (49.3934, -29.7562),\n",
    "    (48.0881, -24.4462),\n",
    "    (46.5282, -19.4374),\n",
    "    (44.7411, -14.743),\n",
    "    (42.7364, -10.3267),\n",
    "    (40.5727, -6.2481),\n",
    "    (38.2576, -2.4505),\n",
    "    (35.8123, 1.0896),\n",
    "    (33.2554, 4.3975),\n",
    "    (30.6031, 7.4986),\n",
    "    (27.8697, 10.4178),\n",
    "    (25.0674, 13.1786),\n",
    "    (22.197, 15.8122), \n",
    "    (19.2887, 18.3195),\n",
    "    (16.3407, 20.7295),\n",
    "    (13.3611, 23.059), \n",
    "    (10.3562,  25.325),\n",
    "    (7.3323, 27.5427), \n",
    "    (4.2953, 29.7267)\n",
    "    ]\n",
    "\n",
    "\n",
    "##### YOUR CODE HERE #####\n"
   ]
  },
  {
   "cell_type": "markdown",
   "metadata": {},
   "source": [
    "6. GPS coordinates are typically represented in latitude and longitude, which are angular measurements. Converting these angular measurements into distances on the Earth's surface requires trigonometric calculations, taking into account the curvature of the Earth and the location of the points relative to the Earth's center. \n",
    "\n",
    "You do not need to perform any calculations, but answer the following questions:\n",
    "\n",
    "i. What is the name of the formula used to compute distances between geographic coordinate pairs?    \n",
    "ii. What is the accepted average radius of the Earth in miles?\n",
    " "
   ]
  },
  {
   "cell_type": "markdown",
   "metadata": {},
   "source": [
    "\n",
    "YOUR WRITTEN ANSWER HERE\n"
   ]
  },
  {
   "cell_type": "markdown",
   "metadata": {},
   "source": [
    "### GeoPandas\n",
    "\n",
    "GeoPandas extends the capabilities of Pandas to handle geospatial data. GeoPandas exposes the GeoDataFrame, which extends the functionality of Pandas DataFrame to support geometric operations and spatial attributes. A GeoDataFrame is essentially a DataFrame with an additional column that contains geometric objects representing spatial features, such as points, lines, or polygons.\n",
    "\n",
    "GeoPandas provides a wide range of geometric operations for manipulating and analyzing spatial data. These operations include geometric transformations, spatial joins, buffering and distance calculations. GeoPandas leverages the capabilities of the Shapely library for geometric operations.\n",
    "\n",
    "GeoPandas seamlessly integrates with Matplotlib and other visualization libraries to create maps and visualize geospatial data. It provides built-in plotting functions for creating choropleth maps, scatter plots, and other types of geospatial visualizations directly from GeoDataFrames.\n",
    "\n",
    "GeoPandas simplifies the process of working with geospatial data in Python by providing a unified and intuitive interface for data manipulation, analysis, and visualization. It is widely used in various domains, including urban planning, environmental science, public health, and business intelligence, to address a wide range of geospatial data analysis tasks.\n"
   ]
  },
  {
   "cell_type": "markdown",
   "metadata": {},
   "source": [
    "7. Load the *Iowa_County_Boundaries.geojson* downloaded from Canvas into a GeoDataFrame using the GeoPandas `read_file` function, and name the GeoDataFrame `dfcounties`. Print the number of counties present in the dataset, and display the first 10 rows of `dfcounties` using `.head()`."
   ]
  },
  {
   "cell_type": "code",
   "execution_count": null,
   "metadata": {},
   "outputs": [],
   "source": [
    "\n",
    "import geopandas as gpd\n",
    "\n",
    "##### YOUR CODE HERE #####\n"
   ]
  },
  {
   "cell_type": "markdown",
   "metadata": {},
   "source": [
    "8. Execute the cell below to set the coordinate reference system for `dfcounties`. **If you fail to execute the cell below, everything that follows will fail!**\n"
   ]
  },
  {
   "cell_type": "code",
   "execution_count": null,
   "metadata": {},
   "outputs": [],
   "source": [
    "\n",
    "dfcounties = dfcounties.to_crs(\"EPSG:4326\")\n"
   ]
  },
  {
   "cell_type": "markdown",
   "metadata": {},
   "source": [
    "8. Call the `.plot()` method on `dfcounties`. "
   ]
  },
  {
   "cell_type": "code",
   "execution_count": null,
   "metadata": {},
   "outputs": [],
   "source": [
    "\n",
    "##### YOUR CODE HERE #####\n"
   ]
  },
  {
   "cell_type": "markdown",
   "metadata": {},
   "source": [
    "\n",
    "9. The *us-weather-events-2016-2023.csv* file downloaded from Canvas contains tornadoes, blizzards and strong wind events events in the US from 2016-2023. Import Pandas and read the file into a Pandas (not GeoPandas) DataFrame named `dfevents`. Display the first 10 rows using `.head()`.\n"
   ]
  },
  {
   "cell_type": "code",
   "execution_count": null,
   "metadata": {},
   "outputs": [],
   "source": [
    "\n",
    "##### YOUR CODE HERE #####\n"
   ]
  },
  {
   "cell_type": "markdown",
   "metadata": {},
   "source": [
    "\n",
    "10. *Filtering the Dataset*. Perform the following tasks:\n",
    "\n",
    "    i. Filter down to only those events where `STATE = \"IOWA\"`.   \n",
    "    ii. Filter down to only those records with `EVENT_TYPE = \"Tornado\"`.    \n",
    "    iii. Drop any records where either `BEGIN_LAT` or `BEGIN_LON` is missing.     \n",
    "\n",
    "    Print the number of records in this subset."
   ]
  },
  {
   "cell_type": "code",
   "execution_count": null,
   "metadata": {},
   "outputs": [],
   "source": [
    "\n",
    "##### YOUR CODE HERE #####\n"
   ]
  },
  {
   "cell_type": "markdown",
   "metadata": {},
   "source": [
    "11. Create a DataFrame `dfyear` containing the number of tornadoes for each year in the dataset (use `groupby`). Display the resulting table. Which year had the most tornadoes in Iowa? Which year had the least? Provide your code and written response in the next two cells."
   ]
  },
  {
   "cell_type": "code",
   "execution_count": null,
   "metadata": {},
   "outputs": [],
   "source": [
    "\n",
    "##### YOUR CODE HERE #####\n"
   ]
  },
  {
   "cell_type": "markdown",
   "metadata": {},
   "source": [
    "\n",
    "YOUR WRITTEN RESPONSE HERE\n"
   ]
  },
  {
   "cell_type": "markdown",
   "metadata": {},
   "source": [
    "Suppose we're interested in determining the number of tornadoes by county. Notice in `dfevents`, we have BEGIN_LAT and BEGIN_LON for each tornado, but we do not have a county name. How would we go about associating the tornadoes with their county of origin? The answer is to use a *spatial join*. \n",
    "\n",
    "A spatial join is a operation that combines two geospatial datasets based on their spatial relationships. It assigns attributes from one dataset to the other based on their spatial proximity or containment. For example, in a point-in-polygon spatial join, points are assigned to polygons based on which polygon they fall within. Spatial joins are commonly used in geographic analysis to integrate and analyze spatial data from different sources, enabling insights into spatial relationships and patterns.\n",
    "\n",
    "Recall that `dfcounties` contains a geometry column where each entry is a polygon, essentially a list of lat-lon pairs that defines the boundary of each county. In order to assign each tornado in `dfevents` to a county, we perform a spatial join. Within the join, each BEGIN_LAT and BEGIN_LON will be associated with the polygon that encloses the lat-lon pair. \n",
    "\n",
    "The steps required for this section are the following:\n",
    "\n",
    "   i. Convert `dfevents` to a GeoDataFrame (code is provided that demonstrates how to do this).  \n",
    "   ii. Use GeoPandas `sjoin` to merge dfevents with dfcounties, assigning each tornado a county.    \n",
    "   iii. Display a choropleth map which shows the variation in the number of tornadoes by county.   \n",
    "\n",
    "<br> \n",
    "Follow the prompts below. Provide your code where indicated."
   ]
  },
  {
   "cell_type": "markdown",
   "metadata": {},
   "source": [
    "12. Create a GeoDataFrame `gdfevents` using BEGIN_LAT and BEGIN_LON from `dfevents`.\n",
    "\n",
    "For example, if I have a Pandas DataFrame `df` with columns LAT and LON and wanted to create a GeoDataFrame `gdf`, I would run the following code:\n",
    "\n",
    "```python\n",
    "gdf = gpd.GeoDataFrame(df, geometry=gpd.points_from_xy(df.LON, df.LAT), crs=\"EPSG:4326\") \n",
    "```\n",
    "\n",
    "Notice that LON (the longitude column) goes first in the call to `gpd.points_from_xy`. The crs argument represents the coordinate reference system. \"EPSG:4326\" tells GeoPandas that our points are latitude-longitude pairs.   \n",
    "\n",
    "Enter your code below. Show the top 10 rows of `gdfevents`. Verify that `gdfevents` has a geometry column.\n"
   ]
  },
  {
   "cell_type": "code",
   "execution_count": null,
   "metadata": {},
   "outputs": [],
   "source": [
    "\n",
    "##### YOUR CODE HERE #####\n"
   ]
  },
  {
   "cell_type": "markdown",
   "metadata": {},
   "source": [
    "13. Assign each tornado event from `gdfevents` to a county using  GeoPandas spatial join. We want to retain the county polygon geometry, so make sure `dfcounties` is the first table specified in the join (i.e. `dfcounties.sjoin(dfevents)`). Name the resulting GeoDataFrame `gdf`. "
   ]
  },
  {
   "cell_type": "code",
   "execution_count": null,
   "metadata": {},
   "outputs": [],
   "source": [
    "\n",
    "##### YOUR CODE HERE #####\n"
   ]
  },
  {
   "cell_type": "markdown",
   "metadata": {},
   "source": [
    "14. Next events are aggregated by county to prepare for plotting. Execute the following cell (no additional code necessary, but if an `AssertionError` is generated, you need to review your prior code):"
   ]
  },
  {
   "cell_type": "code",
   "execution_count": null,
   "metadata": {},
   "outputs": [],
   "source": [
    "\n",
    "gdf = gdf.groupby([\"CountyName\", \"geometry\"], as_index=False).size().rename({\"size\": \"n\"}, axis=1)\n",
    "gdf = gpd.GeoDataFrame(gdf, geometry=gdf.geometry, crs=\"EPSG:4326\") \n",
    "assert gdf[\"n\"].sum() == 566, \"Should be 566 tornado events at this point.\"\n",
    "gdf.head()\n"
   ]
  },
  {
   "cell_type": "markdown",
   "metadata": {},
   "source": [
    "15. Using the GeoDataFrame's `.plot()` method, create a choropleth map using column \"n\", which represents the number of tornadoes in each county. A choropleth map is one in which the color of each shape is based on the value of an associated variable. Be sure to include a legend in order to make the results interpretable. More information available [here](https://geopandas.org/en/stable/docs/user_guide/mapping.html) on plotting from GeoPandas. "
   ]
  },
  {
   "cell_type": "code",
   "execution_count": null,
   "metadata": {},
   "outputs": [],
   "source": [
    "\n",
    "##### YOUR CODE HERE #####\n"
   ]
  },
  {
   "cell_type": "markdown",
   "metadata": {},
   "source": [
    "16. Order the values in `gdf` in decreasing order of `n`. What 5 counties in Iowa had the most tornadoes from 2016-2023? Provide code and written response below.\n"
   ]
  },
  {
   "cell_type": "code",
   "execution_count": null,
   "metadata": {},
   "outputs": [],
   "source": [
    "\n",
    "##### YOUR CODE HERE #####\n"
   ]
  },
  {
   "cell_type": "markdown",
   "metadata": {},
   "source": [
    "\n",
    "YOUR WRITTEN RESPONSE HERE\n"
   ]
  }
 ],
 "metadata": {
  "kernelspec": {
   "display_name": "module3",
   "language": "python",
   "name": "python3"
  },
  "language_info": {
   "codemirror_mode": {
    "name": "ipython",
    "version": 3
   },
   "file_extension": ".py",
   "mimetype": "text/x-python",
   "name": "python",
   "nbconvert_exporter": "python",
   "pygments_lexer": "ipython3",
   "version": "3.11.8"
  }
 },
 "nbformat": 4,
 "nbformat_minor": 2
}

{
 "cells": [
  {
   "cell_type": "markdown",
   "metadata": {},
   "source": [
    "### DAT303 - Spring 2024 - Module 2 Notebook\n",
    "---\n",
    "Name:    \n",
    "Date:"
   ]
  },
  {
   "cell_type": "markdown",
   "metadata": {},
   "source": [
    "\n",
    "## Background\n",
    "\n",
    "Pandas is a popular open-source Python library used for data manipulation and analysis. Developed by Wes McKinney, Pandas provides high-performance, easy-to-use data structures and data analysis tools, making it an essential tool for data scientists, analysts, and developers working with tabular, time-series, or structured data. The name \"Pandas\" is derived from the term \"panel data,\" which refers to multidimensional structured data sets commonly used in econometrics.\n",
    "\n",
    "### Key Features of Pandas:\n",
    "\n",
    "- DataFrame: The core data structure in Pandas is the DataFrame, which is a two-dimensional labeled data structure resembling a spreadsheet or SQL table. It consists of rows and columns, where each column can have a different data type. DataFrames can be created from various data sources such as CSV files, Excel files, SQL databases, or Python dictionaries.\n",
    "\n",
    "- Series: Alongside DataFrames, Pandas provides the Series data structure, which represents a one-dimensional labeled array. Series are used to store sequences of data, similar to Python lists or arrays, but with added indexing capabilities and support for missing data.\n",
    "\n",
    "- Data Manipulation: Pandas offers a rich set of functions and methods for manipulating data, including filtering, selecting, grouping, sorting, merging, joining, and reshaping data. These operations enable users to clean, transform, and preprocess data efficiently, preparing it for further analysis or visualization.\n",
    "\n",
    "- Missing Data Handling: Pandas provides robust support for handling missing or incomplete data, allowing users to easily detect, remove, replace, or interpolate missing values in their datasets. This feature is crucial for ensuring the integrity and accuracy of data analysis results.\n",
    "\n",
    "- Time-Series Analysis: Pandas includes powerful tools for working with time-series data, such as date/time indexing, resampling, shifting, rolling window calculations, and frequency conversion. These functionalities make Pandas well-suited for analyzing and visualizing time-series data in applications like finance, economics, and IoT.\n",
    "\n",
    "- Integration with NumPy: Pandas is built on top of the NumPy library, leveraging its efficient array-based operations and numerical computing capabilities. This integration allows for seamless interoperability between Pandas and NumPy, enabling users to perform advanced mathematical and statistical computations on their data.\n",
    "\n",
    "- Data Visualization: While Pandas itself does not provide visualization capabilities, it integrates seamlessly with other Python libraries such as Matplotlib, Seaborn, and Plotly for creating insightful visualizations from Pandas data structures. This integration allows users to explore and communicate their data effectively through plots, charts, and graphs.\n",
    "\n",
    "- IO Tools: Pandas offers a wide range of input/output (IO) tools for reading and writing data in various file formats, including CSV, Excel, SQL databases, JSON, HTML, HDF5, and more. These IO tools simplify the process of loading and saving data, enabling seamless integration with external data sources.\n",
    "\n",
    "### Use Cases of Pandas:\n",
    "\n",
    "- Data Cleaning and Preprocessing: Pandas is commonly used for cleaning and preprocessing raw data by handling missing values, removing duplicates, and transforming data into a suitable format for analysis.\n",
    "\n",
    "- Data Exploration and Analysis: Data scientists and analysts use Pandas for exploratory data analysis (EDA), summarizing data statistics, identifying patterns, and gaining insights into their datasets.\n",
    "\n",
    "- Feature Engineering: Pandas facilitates feature engineering tasks such as creating new features, encoding categorical variables, scaling numerical features, and extracting information from text or datetime data.\n",
    "\n",
    "- Modeling and Machine Learning: Pandas is an integral part of the machine learning workflow, as it helps prepare data for training machine learning models by splitting datasets, encoding labels, and performing feature scaling.\n",
    "\n",
    "- Time-Series Analysis and Forecasting: Pandas' time-series functionalities make it a preferred choice for analyzing time-stamped data, detecting trends, seasonality, and anomalies, and building predictive models for forecasting future values.\n",
    "\n",
    "- Financial Analysis: Finance professionals use Pandas for analyzing stock market data, calculating financial metrics, backtesting trading strategies, and generating visualizations for investment decision-making.\n",
    "\n",
    "- Data Visualization: While Pandas itself does not provide visualization capabilities, it integrates seamlessly with visualization libraries like Matplotlib and Seaborn to create informative plots, charts, and graphs from Pandas data structures."
   ]
  },
  {
   "cell_type": "markdown",
   "metadata": {},
   "source": [
    "### Part I: Getting Familiar with Pandas\n",
    "\n",
    "For this assignment, you will get familiar with Pandas by working with an auto insurance claims dataset. You will load the dataset from GitHub and complete the empty cells below. Your code should replace the `# YOUR CODE HERE #` comments in each cell. Some questions ask for written responses. These are markdown cells, and will be populated with `YOUR WRITTEN RESPONSE HERE`. Please remove these lines after entering your answers. "
   ]
  },
  {
   "cell_type": "markdown",
   "metadata": {},
   "source": [
    "1. The DataFrame is loaded into the variable `df`. Display the first 10 rows of `df` using the DataFrame `head` method. \n"
   ]
  },
  {
   "cell_type": "code",
   "execution_count": null,
   "metadata": {},
   "outputs": [],
   "source": [
    "\n",
    "import pandas as pd\n",
    "\n",
    "data_url = \"https://gist.githubusercontent.com/jtrive84/a765e9fa4f13c520fb89f0a65092fa51/raw/a639aaaab358ca2e6f4a69d3455933df4dc4d363/UKClaims.tsv\"\n",
    "\n",
    "df = pd.read_csv(data_url, sep=\"\\t\")\n",
    "\n",
    "\n",
    "#####  YOUR CODE HERE #####\n",
    "\n"
   ]
  },
  {
   "cell_type": "markdown",
   "metadata": {},
   "source": [
    "The DataFrame consists of 4 columns:\n",
    "\n",
    "- **AGE**: The age group of the drivers in question.\n",
    "- **MODEL**: The insured vehicle model.\n",
    "- **AUTO_AGE**: The age group of the insured vehicle. \n",
    "- **LOSS**: The average loss amount for a given AGE, MODEL and AUTO_AGE. \n",
    "\n",
    "For example, drivers between the age of 17-20 years old (`AGE = 17-20`), having vehicle model A (`MODEL = A`) in which the vehicle is between 0 and 3 years old (`AUTO_AGE = 0 -3`), the average loss amount is $289 (`LOSS = 289.0`). This means that when a 17-20 year-old driving a model A vehicle that is less than 3 years old gets into an accident, on average it costs $289 to cover the repairs. "
   ]
  },
  {
   "cell_type": "markdown",
   "metadata": {
    "vscode": {
     "languageId": "plaintext"
    }
   },
   "source": [
    "2. Print the number of rows and columns in `df`."
   ]
  },
  {
   "cell_type": "code",
   "execution_count": null,
   "metadata": {},
   "outputs": [],
   "source": [
    "\n",
    "#####  YOUR CODE HERE #####\n"
   ]
  },
  {
   "cell_type": "markdown",
   "metadata": {},
   "source": [
    "3. Call the DataFrame `info()` method to get information about the DataFrame."
   ]
  },
  {
   "cell_type": "code",
   "execution_count": null,
   "metadata": {},
   "outputs": [],
   "source": [
    "\n",
    "#####  YOUR CODE HERE #####\n"
   ]
  },
  {
   "cell_type": "markdown",
   "metadata": {},
   "source": [
    "4. Print the datatypes of each column in the DataFrame using `dtypes`."
   ]
  },
  {
   "cell_type": "code",
   "execution_count": null,
   "metadata": {},
   "outputs": [],
   "source": [
    "\n",
    "#####  YOUR CODE HERE #####\n"
   ]
  },
  {
   "cell_type": "markdown",
   "metadata": {},
   "source": [
    "5. Count the number of missing values in `df` for each column."
   ]
  },
  {
   "cell_type": "code",
   "execution_count": null,
   "metadata": {},
   "outputs": [],
   "source": [
    "\n",
    "#####  YOUR CODE HERE #####\n"
   ]
  },
  {
   "cell_type": "markdown",
   "metadata": {},
   "source": [
    "6. Replace any missing values in the LOSS column with 0, then re-check the number of nulls in `df`."
   ]
  },
  {
   "cell_type": "code",
   "execution_count": null,
   "metadata": {},
   "outputs": [],
   "source": [
    "\n",
    "#####  YOUR CODE HERE #####\n"
   ]
  },
  {
   "cell_type": "markdown",
   "metadata": {},
   "source": [
    "7. Get a count of each of the groups in the AGE, MODEL and AUTO_AGE columns (Hint: use `value_counts()`). Print the results of each."
   ]
  },
  {
   "cell_type": "code",
   "execution_count": null,
   "metadata": {},
   "outputs": [],
   "source": [
    "\n",
    "#####  YOUR CODE HERE #####\n"
   ]
  },
  {
   "cell_type": "markdown",
   "metadata": {},
   "source": [
    "8. Return the Numpy representation of the LOSS column. Divide each element of the array by the maximum value, then print the array. (Hint: Do not use any looping: rely on Numpy's broadcasting)."
   ]
  },
  {
   "cell_type": "code",
   "execution_count": null,
   "metadata": {},
   "outputs": [],
   "source": [
    "\n",
    "#####  YOUR CODE HERE #####\n"
   ]
  },
  {
   "cell_type": "markdown",
   "metadata": {},
   "source": [
    "\n",
    "9. Create a new DataFrame `df200` that contains only those rows with LOSS value greater than 200. How many rows are in this subset?"
   ]
  },
  {
   "cell_type": "code",
   "execution_count": null,
   "metadata": {},
   "outputs": [],
   "source": [
    "\n",
    "#####  YOUR CODE HERE #####\n"
   ]
  },
  {
   "cell_type": "markdown",
   "metadata": {},
   "source": [
    "10. Within `df200`, how many of the records are associated with `AGE = 40-49`? "
   ]
  },
  {
   "cell_type": "code",
   "execution_count": null,
   "metadata": {},
   "outputs": [],
   "source": [
    "\n",
    "#####  YOUR CODE HERE #####\n"
   ]
  },
  {
   "cell_type": "markdown",
   "metadata": {},
   "source": [
    "11. Within `df200`, how many of the records are associated with `MODEL = D`? "
   ]
  },
  {
   "cell_type": "code",
   "execution_count": null,
   "metadata": {},
   "outputs": [],
   "source": [
    "\n",
    "#####  YOUR CODE HERE #####\n"
   ]
  },
  {
   "cell_type": "markdown",
   "metadata": {},
   "source": [
    "12. Within `df200`, are there more rows associated with `AUTO_AGE = 4-7` or `AUTO_AGE = 8-9`? Put your code in the cell below, and your written response in the empty markdown cell after it. "
   ]
  },
  {
   "cell_type": "code",
   "execution_count": null,
   "metadata": {},
   "outputs": [],
   "source": [
    "\n",
    "#####  YOUR CODE HERE #####\n"
   ]
  },
  {
   "cell_type": "markdown",
   "metadata": {},
   "source": [
    "\n",
    "YOUR WRITTEN RESPONSE HERE\n"
   ]
  },
  {
   "cell_type": "markdown",
   "metadata": {},
   "source": [
    "13. What is the maximum LOSS for `MODEL = B` within `df200`?"
   ]
  },
  {
   "cell_type": "code",
   "execution_count": null,
   "metadata": {},
   "outputs": [],
   "source": [
    "\n",
    "#####  YOUR CODE HERE #####\n"
   ]
  },
  {
   "cell_type": "markdown",
   "metadata": {},
   "source": [
    "\n",
    "14. What is the minimum LOSS for `MODEL = C` within `df200`?"
   ]
  },
  {
   "cell_type": "code",
   "execution_count": null,
   "metadata": {},
   "outputs": [],
   "source": [
    "\n",
    "#####  YOUR CODE HERE #####\n"
   ]
  },
  {
   "cell_type": "markdown",
   "metadata": {},
   "source": [
    "\n",
    "15. What is the average LOSS for `MODEL = A` within `df200`?"
   ]
  },
  {
   "cell_type": "code",
   "execution_count": null,
   "metadata": {},
   "outputs": [],
   "source": [
    "\n",
    "#####  YOUR CODE HERE #####\n"
   ]
  },
  {
   "cell_type": "markdown",
   "metadata": {},
   "source": [
    "\n",
    "16. Create a new column `MEAN_DIFF` that subtracts the average LOSS amount in `df` from the LOSS column. How many rows have MEAN_DIFF less than 0? How many rows have MEAN_DIFF greater than 0? Write your code in the next cell, and your written response in the following empty markdown cell."
   ]
  },
  {
   "cell_type": "code",
   "execution_count": null,
   "metadata": {},
   "outputs": [],
   "source": [
    "\n",
    "#####  YOUR CODE HERE #####\n"
   ]
  },
  {
   "cell_type": "markdown",
   "metadata": {},
   "source": [
    "\n",
    "YOUR WRITTEN RESPONSE HERE\n"
   ]
  },
  {
   "cell_type": "markdown",
   "metadata": {},
   "source": [
    "### Part II: Group-wise Analysis\n",
    "\n",
    "\n",
    "> The problems that follow require knowledge of `groupby` in Pandas. Be sure to review \n",
    "[Pandas Group by: Split-Apply-Combine](https://dmacc.instructure.com/courses/11337/pages/activities-for-module-2/edit), also listed in Canvas under *Activities for Module 2*."
   ]
  },
  {
   "cell_type": "markdown",
   "metadata": {},
   "source": [
    "17. Compute the average loss amount by AGE. Inspect the resulting DataFrame. Which AGE group has the highest average LOSS? The lowest? Write your code in the next cell, and your written response in the following empty markdown cell with the minimum and maximum average LOSS amounts.\n"
   ]
  },
  {
   "cell_type": "code",
   "execution_count": null,
   "metadata": {},
   "outputs": [],
   "source": [
    "\n",
    "#####  YOUR CODE HERE #####\n"
   ]
  },
  {
   "cell_type": "markdown",
   "metadata": {},
   "source": [
    "\n",
    "YOUR WRITTEN RESPONSE HERE\n"
   ]
  },
  {
   "cell_type": "markdown",
   "metadata": {},
   "source": [
    "18. Compute the average loss amount by MODEL. Inspect the resulting DataFrame. Which MODEL has the highest average LOSS? The lowest? Write your code in the next cell, and your written response in the following empty markdown cell with the minimum and maximum average LOSS and associated MODEL."
   ]
  },
  {
   "cell_type": "code",
   "execution_count": null,
   "metadata": {},
   "outputs": [],
   "source": [
    "\n",
    "#####  YOUR CODE HERE #####\n"
   ]
  },
  {
   "cell_type": "markdown",
   "metadata": {},
   "source": [
    "\n",
    "YOUR WRITTEN RESPONSE HERE\n"
   ]
  },
  {
   "cell_type": "markdown",
   "metadata": {},
   "source": [
    "19. Consider only those rows in which `AUTO_AGE = 10+`. How do the highest and lowest LOSS amounts differ from the results from problem 16? Specifically, are the MODELs with the highest/lowest average LOSS the same when only considering vehicles with `AUTO_AGE = 10+`?. Write your code in the next cell, and your written response in the following empty markdown cell."
   ]
  },
  {
   "cell_type": "code",
   "execution_count": null,
   "metadata": {},
   "outputs": [],
   "source": [
    "\n",
    "#####  YOUR CODE HERE #####\n"
   ]
  },
  {
   "cell_type": "markdown",
   "metadata": {},
   "source": [
    "\n",
    "YOUR WRITTEN RESPONSE HERE\n"
   ]
  },
  {
   "cell_type": "markdown",
   "metadata": {},
   "source": [
    "19. What are some shortcomings of this data? Name at least two."
   ]
  },
  {
   "cell_type": "markdown",
   "metadata": {},
   "source": [
    "YOUR WRITTEN RESPONSE HERE"
   ]
  },
  {
   "cell_type": "markdown",
   "metadata": {},
   "source": [
    "### Part III. Matplotlib\n",
    "\n",
    "Matplotlib is a comprehensive plotting library for Python widely used in scientific computing and data visualization. It provides a versatile framework for creating high-quality static, interactive, and animated visualizations. Matplotlib has become a cornerstone tool for researchers, engineers, data scientists, and analysts due to its flexibility and ease of use.\n",
    "\n",
    "At its core, Matplotlib offers a vast array of plotting functions to create a wide range of plots, including line plots, scatter plots, bar charts, histograms, pie charts, and more. Users can customize every aspect of their plots, from colors and line styles to labels and annotations, allowing for precise control over the appearance of visualizations.\n",
    "\n",
    "Matplotlib seamlessly integrates with other Python libraries such as NumPy and pandas, making it an essential component of the data science ecosystem. Its compatibility with various GUI toolkits enables the creation of interactive plots for exploring data dynamically.\n",
    "\n",
    "It is assumed that you have some familiarity with Matplotlib. The following problems should be a refresher. We will be using Matplotlib for more sophisticated visualizations in later modules. "
   ]
  },
  {
   "cell_type": "markdown",
   "metadata": {},
   "source": [
    "20. Generate 10,000 random samples from a standard normal distribution and plot a red histogram with 18 bins. \n",
    "\n",
    "> Hint: refer to [this](https://numpy.org/doc/stable/reference/random/generated/numpy.random.normal.html) link for information on drawing standard normal samples in Numpy. By *standard normal*, we mean a normal distribution with mean = 0 and variance = 1.\n"
   ]
  },
  {
   "cell_type": "code",
   "execution_count": null,
   "metadata": {},
   "outputs": [],
   "source": [
    "\n",
    "#####  YOUR CODE HERE #####\n"
   ]
  },
  {
   "cell_type": "markdown",
   "metadata": {},
   "source": [
    "21. Using the two datasets below, plot `y1` and a scatterplot and `y2` and a lineplot. Each should use `x` as the independent variable. Scatterpoints should be **blue** and the lineplot should be a **red** dashed line."
   ]
  },
  {
   "cell_type": "code",
   "execution_count": null,
   "metadata": {},
   "outputs": [
    {
     "ename": "",
     "evalue": "",
     "output_type": "error",
     "traceback": [
      "\u001b[1;31mThe Kernel crashed while executing code in the current cell or a previous cell. \n",
      "\u001b[1;31mPlease review the code in the cell(s) to identify a possible cause of the failure. \n",
      "\u001b[1;31mClick <a href='https://aka.ms/vscodeJupyterKernelCrash'>here</a> for more info. \n",
      "\u001b[1;31mView Jupyter <a href='command:jupyter.viewOutput'>log</a> for further details."
     ]
    }
   ],
   "source": [
    "\n",
    "import numpy as np\n",
    "import matplotlib.pyplot as plt\n",
    "\n",
    "# Set random seed for reproducibility.\n",
    "rng = np.random.default_rng(516)\n",
    "\n",
    "x = np.linspace(0, 10, 25)\n",
    "y1 = 3 * rng.normal(loc=x, scale=1.50) + 7\n",
    "A = np.vstack([np.ones(len(x)), x]).T\n",
    "b, m = np.linalg.lstsq(A, y1 ,rcond=None)[0]\n",
    "y2 = m * x + b\n",
    "\n",
    "\n",
    "#####  YOUR CODE HERE #####\n",
    "\n"
   ]
  }
 ],
 "metadata": {
  "kernelspec": {
   "display_name": "module1",
   "language": "python",
   "name": "python3"
  },
  "language_info": {
   "codemirror_mode": {
    "name": "ipython",
    "version": 3
   },
   "file_extension": ".py",
   "mimetype": "text/x-python",
   "name": "python",
   "nbconvert_exporter": "python",
   "pygments_lexer": "ipython3",
   "version": "3.11.8"
  }
 },
 "nbformat": 4,
 "nbformat_minor": 2
}

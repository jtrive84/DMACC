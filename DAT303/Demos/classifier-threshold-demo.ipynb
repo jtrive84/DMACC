{
 "cells": [
  {
   "cell_type": "markdown",
   "metadata": {},
   "source": [
    "## Demo: Hyperparameter Search & Classifier Threshold Selection\n",
    "\n",
    "The following notebook demonstrates alternatives for selecting a classifier threshold in scikit-learn, and how to use `GridSearchCV` to identify optimal hyperparameters for a given model and metric."
   ]
  },
  {
   "cell_type": "markdown",
   "metadata": {},
   "source": [
    "First we load the breast cancer dataset from scikit-learn. We will forgo any pre-processing, but create separate train and validation sets. "
   ]
  },
  {
   "cell_type": "code",
   "execution_count": 1,
   "metadata": {},
   "outputs": [
    {
     "name": "stdout",
     "output_type": "stream",
     "text": [
      "Xtrain.shape: (455, 30)\n",
      "Xvalid.shape: (114, 30)\n"
     ]
    }
   ],
   "source": [
    "\n",
    "import matplotlib.pyplot as plt\n",
    "import numpy as np\n",
    "import pandas as pd\n",
    "\n",
    "from sklearn.datasets import load_breast_cancer\n",
    "from sklearn.model_selection import train_test_split\n",
    "\n",
    "np.set_printoptions(suppress=True, precision=8, linewidth=1000)\n",
    "pd.options.mode.chained_assignment = None\n",
    "pd.set_option('display.max_columns', None)\n",
    "pd.set_option('display.width', None)\n",
    "\n",
    "data = load_breast_cancer()\n",
    "X = data[\"data\"]\n",
    "y = data[\"target\"]\n",
    "\n",
    "\n",
    "# Create train, validation and test splits. \n",
    "Xtrain, Xvalid, ytrain, yvalid = train_test_split(X, y, test_size=.20, random_state=516)\n",
    "\n",
    "print(f\"Xtrain.shape: {Xtrain.shape}\")\n",
    "print(f\"Xvalid.shape: {Xvalid.shape}\")\n"
   ]
  },
  {
   "cell_type": "markdown",
   "metadata": {},
   "source": [
    "\n",
    "\n",
    "\n",
    "## Hyperparameter Search\n",
    "\n",
    "\n",
    "\n",
    "\n",
    "A random forest is a meta estimator that fits a number of decision tree classifiers on various sub-samples of the dataset and uses averaging to improve the predictive accuracy and control over-fitting (see documentation [here](https://scikit-learn.org/stable/modules/generated/sklearn.ensemble.RandomForestClassifier.html#sklearn-ensemble-randomforestclassifier)).\n",
    "\n",
    "The `RandomForestClassifier` takes a number of hyperparameters. It can be difficult to determine which values to set these to manually, so instead we can perform a cross-validated grid search over a number of candidate values to determine which hyperparmeter combination is best for our data and specified metric. `GridSearchCV`is part of scikit-learn, and is a method used to find the best possible configuration of hyperparameters for optimal performance. It works as follows:\n",
    "\n",
    "1. **Define a parameter grid**: The grid is a dictionary that maps parameter names to the values that should be tested. These parameters are specific to the model you are working to optimize.\n",
    "\n",
    "2. **Specify a model**: Choose a model that you want to optimize using `GridSearchCV`. This model is not trained yet; it's just passed in with it's default parameters.\n",
    "\n",
    "3. **Cross-validation setup**: `GridSearchCV` uses cross-validation to evaluate each combination of parameter values provided in the grid. You need to specify the number of folds (splits) for the cross-validation process (this is the `cv` parameter). Common choices are 5 or 10 folds, depending on the size of your dataset and how thorough you want the search to be.\n",
    "\n",
    "4. **Search Execution**: With the parameter grid, model, and cross-validation setup, `GridSearchCV` systematically works through multiple combinations of parameter sets, cross-validating as it goes to determine which configuration gives the best performance based on a score function. The performance is often measured using metrics like accuracy, precision or recall for classification problems or mean squared error for regression problems.\n",
    "\n",
    "5. **Results:** Finally, `GridSearchCV` provides the best parameters, allowing you to understand which parameters work best for your model. Additionally, it can provide other results like the score for each parameter combination, allowing for deeper analysis of how different parameter values impact model performance.\n",
    "\n",
    "<br>\n",
    "\n",
    "The documentation for `GridSearchCV` is available [here](https://scikit-learn.org/stable/modules/generated/sklearn.model_selection.GridSearchCV.html#sklearn.model_selection.GridSearchCV). \n",
    "\n",
    "<br>\n",
    "\n",
    "\n",
    "In the next cell, we assess the following `RandomForestClassifier` hyperparameters:\n",
    "\n",
    "- `n_estimators`: [100, 150, 250, 500]\n",
    "- `min_samples_leaf`: [2, 3, 4]\n",
    "- `ccp_alpha`: [0, .1, .2, .3]\n",
    "\n",
    "\n",
    "For the metric, recall is used since the cost of a false negative is high (not detecting breast cancer). This means the hyperparameter combination with the maximum average recall over the k-folds will be selected as the best parameter set.\n",
    "\n"
   ]
  },
  {
   "cell_type": "code",
   "execution_count": 2,
   "metadata": {},
   "outputs": [
    {
     "name": "stdout",
     "output_type": "stream",
     "text": [
      "best parameters: {'ccp_alpha': 0, 'min_samples_leaf': 2, 'n_estimators': 150}\n"
     ]
    }
   ],
   "source": [
    "\"\"\"\n",
    "Example using GridSearchCV to identify optimal hyperparameters w.r.t. recall.\n",
    "Note that within GridSearchCV, cv represents the number of folds for \n",
    "k-Fold cross validation.\n",
    "\"\"\"\n",
    "from sklearn.ensemble import RandomForestClassifier\n",
    "from sklearn.model_selection import GridSearchCV\n",
    "\n",
    "\n",
    "# Create parameter grid as dictionary.\n",
    "param_grid = {\n",
    "    \"n_estimators\": [100, 150, 250, 500],\n",
    "    \"min_samples_leaf\": [2, 3, 4],\n",
    "    \"ccp_alpha\": [0, .1, .2, .3]\n",
    "    }\n",
    "\n",
    "\n",
    "# Pass model and param_grid into GridSearchCV.\n",
    "mdl = GridSearchCV(\n",
    "    RandomForestClassifier(), \n",
    "    param_grid, \n",
    "    scoring=\"recall\", \n",
    "    cv=5\n",
    "    )\n",
    "    \n",
    "# Fit model on training set. This can take a while depending on the number of \n",
    "# hyperparameter combinations in param_grid.\n",
    "mdl.fit(Xtrain, ytrain)\n",
    "\n",
    "\n",
    "# Print optimal parameters.\n",
    "print(f\"best parameters: {mdl.best_params_}\")\n",
    "\n"
   ]
  },
  {
   "cell_type": "markdown",
   "metadata": {},
   "source": [
    "\n",
    "<br>\n",
    "\n",
    "The resulting `mdl` object can be used to make predictions on the validation set (`mdl` is `RandomForestClassifier` with optimal hyperparameters set). We use `mdl.predict_proba` to get probabilities on [0, 1], with values closer to 1 representing positive instances of breast cancer:"
   ]
  },
  {
   "cell_type": "code",
   "execution_count": 16,
   "metadata": {},
   "outputs": [
    {
     "data": {
      "text/plain": [
       "array([0.01111111, 0.82539683, 0.98633333, 0.        , 0.        , 1.        , 0.99166667, 0.64266667, 0.        , 0.99444444, 0.99666667, 0.25055556, 0.95188889, 1.        , 0.01888889, 1.        , 1.        , 0.77611111, 0.        , 0.00333333, 0.98444444, 1.        , 1.        , 0.93933333, 0.        , 0.04277778, 0.98777778, 0.99166667, 1.        , 0.04811111, 0.95722222, 0.        , 1.        , 0.70157143, 0.99611111, 0.        , 0.63211111, 0.03746032, 0.        , 1.        , 0.11246032, 0.        , 0.1888254 , 1.        , 0.59766667, 0.62122222, 0.99666667, 0.56812698, 0.98666667, 0.98411111, 0.03611111, 0.98      , 0.99833333, 0.47455556, 0.90444444, 0.69484127, 0.        , 0.99833333, 0.19579365, 0.        , 0.28609524, 0.95769841, 0.99222222, 0.99222222, 0.98666667, 0.8661746 , 0.10357143, 0.01333333, 0.98811111, 1.        , 0.90644444, 0.94177778, 0.99333333, 0.845     , 0.        , 0.99666667, 0.89444444, 1.        , 0.99666667, 1.        , 0.99333333, 0.98911111,\n",
       "       0.79111111, 0.98055556, 0.        , 0.99333333, 0.99611111, 0.01444444, 0.99388889, 0.97744444, 0.19622222, 0.69293651, 0.00666667, 0.98111111, 0.99166667, 1.        , 0.91722222, 0.95966667, 0.13766667, 0.79855556, 0.98833333, 1.        , 0.81233333, 0.99666667, 0.39033333, 1.        , 0.94166667, 1.        , 0.93911111, 0.4518254 , 1.        , 0.01833333, 0.02055556, 0.94222222])"
      ]
     },
     "execution_count": 16,
     "metadata": {},
     "output_type": "execute_result"
    }
   ],
   "source": [
    "\n",
    "ypred = mdl.predict_proba(Xvalid)[:,1]\n",
    "\n",
    "ypred\n"
   ]
  },
  {
   "cell_type": "markdown",
   "metadata": {},
   "source": [
    "Note that scikit-learn `predict_proba`  outputs an nx2 dimensional array, where the first column represents the probability of class 0 and the second column the probability of class 1 (has breast cancer). Each row will sum to 1. We will work with the probabilities of the class we're interested in analyzing, so we extract only the values from the positive class (the second column), that's why we call `mdl.predict_proba(Xvalid)[:,1]`."
   ]
  },
  {
   "cell_type": "markdown",
   "metadata": {},
   "source": [
    "### Threshold Selection\n",
    "\n",
    "In order to master machine learning, it is necessary to learn a variety of minor concepts that underpin these systems. One such concept is setting the optimal classification threshold.\n",
    "\n",
    "\n",
    "By default, for probabilistic classifiers scikit-learn uses a threshold of .50 to distinguish between positive and negative class instances. The predicted classes are obtained by calling `mdl.predict`. Here's a side by side comparison of the model predicted probabilities and predicted classes:\n"
   ]
  },
  {
   "cell_type": "code",
   "execution_count": 4,
   "metadata": {},
   "outputs": [
    {
     "data": {
      "text/plain": [
       "array([[0.01111111, 0.        ],\n",
       "       [0.82539683, 1.        ],\n",
       "       [0.98633333, 1.        ],\n",
       "       [0.        , 0.        ],\n",
       "       [0.        , 0.        ],\n",
       "       [1.        , 1.        ],\n",
       "       [0.99166667, 1.        ],\n",
       "       [0.64266667, 1.        ],\n",
       "       [0.        , 0.        ],\n",
       "       [0.99444444, 1.        ],\n",
       "       [0.99666667, 1.        ],\n",
       "       [0.25055556, 0.        ],\n",
       "       [0.95188889, 1.        ],\n",
       "       [1.        , 1.        ],\n",
       "       [0.01888889, 0.        ],\n",
       "       [1.        , 1.        ],\n",
       "       [1.        , 1.        ],\n",
       "       [0.77611111, 1.        ],\n",
       "       [0.        , 0.        ],\n",
       "       [0.00333333, 0.        ],\n",
       "       [0.98444444, 1.        ],\n",
       "       [1.        , 1.        ],\n",
       "       [1.        , 1.        ],\n",
       "       [0.93933333, 1.        ],\n",
       "       [0.        , 0.        ],\n",
       "       [0.04277778, 0.        ],\n",
       "       [0.98777778, 1.        ],\n",
       "       [0.99166667, 1.        ],\n",
       "       [1.        , 1.        ],\n",
       "       [0.04811111, 0.        ],\n",
       "       [0.95722222, 1.        ],\n",
       "       [0.        , 0.        ],\n",
       "       [1.        , 1.        ],\n",
       "       [0.70157143, 1.        ],\n",
       "       [0.99611111, 1.        ],\n",
       "       [0.        , 0.        ],\n",
       "       [0.63211111, 1.        ],\n",
       "       [0.03746032, 0.        ],\n",
       "       [0.        , 0.        ],\n",
       "       [1.        , 1.        ],\n",
       "       [0.11246032, 0.        ],\n",
       "       [0.        , 0.        ],\n",
       "       [0.1888254 , 0.        ],\n",
       "       [1.        , 1.        ],\n",
       "       [0.59766667, 1.        ],\n",
       "       [0.62122222, 1.        ],\n",
       "       [0.99666667, 1.        ],\n",
       "       [0.56812698, 1.        ],\n",
       "       [0.98666667, 1.        ],\n",
       "       [0.98411111, 1.        ],\n",
       "       [0.03611111, 0.        ],\n",
       "       [0.98      , 1.        ],\n",
       "       [0.99833333, 1.        ],\n",
       "       [0.47455556, 0.        ],\n",
       "       [0.90444444, 1.        ],\n",
       "       [0.69484127, 1.        ],\n",
       "       [0.        , 0.        ],\n",
       "       [0.99833333, 1.        ],\n",
       "       [0.19579365, 0.        ],\n",
       "       [0.        , 0.        ],\n",
       "       [0.28609524, 0.        ],\n",
       "       [0.95769841, 1.        ],\n",
       "       [0.99222222, 1.        ],\n",
       "       [0.99222222, 1.        ],\n",
       "       [0.98666667, 1.        ],\n",
       "       [0.8661746 , 1.        ],\n",
       "       [0.10357143, 0.        ],\n",
       "       [0.01333333, 0.        ],\n",
       "       [0.98811111, 1.        ],\n",
       "       [1.        , 1.        ],\n",
       "       [0.90644444, 1.        ],\n",
       "       [0.94177778, 1.        ],\n",
       "       [0.99333333, 1.        ],\n",
       "       [0.845     , 1.        ],\n",
       "       [0.        , 0.        ],\n",
       "       [0.99666667, 1.        ],\n",
       "       [0.89444444, 1.        ],\n",
       "       [1.        , 1.        ],\n",
       "       [0.99666667, 1.        ],\n",
       "       [1.        , 1.        ],\n",
       "       [0.99333333, 1.        ],\n",
       "       [0.98911111, 1.        ],\n",
       "       [0.79111111, 1.        ],\n",
       "       [0.98055556, 1.        ],\n",
       "       [0.        , 0.        ],\n",
       "       [0.99333333, 1.        ],\n",
       "       [0.99611111, 1.        ],\n",
       "       [0.01444444, 0.        ],\n",
       "       [0.99388889, 1.        ],\n",
       "       [0.97744444, 1.        ],\n",
       "       [0.19622222, 0.        ],\n",
       "       [0.69293651, 1.        ],\n",
       "       [0.00666667, 0.        ],\n",
       "       [0.98111111, 1.        ],\n",
       "       [0.99166667, 1.        ],\n",
       "       [1.        , 1.        ],\n",
       "       [0.91722222, 1.        ],\n",
       "       [0.95966667, 1.        ],\n",
       "       [0.13766667, 0.        ],\n",
       "       [0.79855556, 1.        ],\n",
       "       [0.98833333, 1.        ],\n",
       "       [1.        , 1.        ],\n",
       "       [0.81233333, 1.        ],\n",
       "       [0.99666667, 1.        ],\n",
       "       [0.39033333, 0.        ],\n",
       "       [1.        , 1.        ],\n",
       "       [0.94166667, 1.        ],\n",
       "       [1.        , 1.        ],\n",
       "       [0.93911111, 1.        ],\n",
       "       [0.4518254 , 0.        ],\n",
       "       [1.        , 1.        ],\n",
       "       [0.01833333, 0.        ],\n",
       "       [0.02055556, 0.        ],\n",
       "       [0.94222222, 1.        ]])"
      ]
     },
     "execution_count": 4,
     "metadata": {},
     "output_type": "execute_result"
    }
   ],
   "source": [
    "\n",
    "# Predicted probabilities.\n",
    "ypred = mdl.predict_proba(Xvalid)[:,1].reshape(-1, 1)\n",
    "\n",
    "\n",
    "# Predicted classes.\n",
    "yhat = mdl.predict(Xvalid).reshape(-1, 1)\n",
    "\n",
    "\n",
    "# Combine probabilities and predicted class labels.\n",
    "preds = np.concatenate([ypred, yhat], axis=1)\n",
    "\n",
    "preds\n"
   ]
  },
  {
   "cell_type": "markdown",
   "metadata": {},
   "source": [
    "Notice that when the probability is less that 0.50, the predicted class is 0. When the predicted probability is greater than 0.50, the predicted class is 1. For certain applications, the 0.50 threshold might make sense, for example when your target is balanced or close to balanced (when the number of 0s and 1s in the training set is approximately equal). But for unbalanced datasets, using the default threshold can give misleading results. In what follows, we walkthrough a few approaches that can be used to assess the optimal discrimination theshold for a classifier.\n",
    "\n"
   ]
  },
  {
   "cell_type": "markdown",
   "metadata": {},
   "source": [
    "### 1. Use 0.50\n",
    "\n",
    "The first approach is the most straightforward: Just use the default scikit-learn threshold of .50. This makes sense when your classes are balanced, but will give misleading results when classes are imbalanced."
   ]
  },
  {
   "cell_type": "markdown",
   "metadata": {},
   "source": [
    "### 2. Use 1 - the proportion of positive instances in the training data\n",
    "\n",
    "If we look at the number of positives (1s) vs. total samples in our training set, we have:"
   ]
  },
  {
   "cell_type": "code",
   "execution_count": 5,
   "metadata": {},
   "outputs": [
    {
     "name": "stdout",
     "output_type": "stream",
     "text": [
      "Proportion of positives in training set: 0.62\n"
     ]
    }
   ],
   "source": [
    "\n",
    "print(f\"Proportion of positives in training set: {ytrain.sum() / ytrain.shape[0]:.2f}\")\n"
   ]
  },
  {
   "cell_type": "markdown",
   "metadata": {},
   "source": [
    "We see that 62% of the samples belong to class 1. This is usually not the case. In many classification scenarios, we're dealing with 10%, 5% or even less than 1% of samples belonging to the positive class.\n",
    "\n",
    "To illustrate the approach, since 62% percent of the observations belong to the positive class, we would use a threshold of **1 - .62 = .38**. The predicted class labels are then created using the following code:"
   ]
  },
  {
   "cell_type": "code",
   "execution_count": 6,
   "metadata": {},
   "outputs": [],
   "source": [
    "\n",
    "# Creating predicted classes based on adjusted classifier threshold. \n",
    "thresh = .38\n",
    "\n",
    "yhat = np.where(ypred <= thresh, 0, 1)\n"
   ]
  },
  {
   "cell_type": "markdown",
   "metadata": {},
   "source": [
    "Now any sample with a predicted probability less than or equal to .38 will be assigned to class 0, and samples with predicted probability greater than .38 are assigned to the positive class.\n",
    "\n",
    "If we're dealing with a highly imbalanced dataset with only 1% positive instances, we would use **1 - .01 = .99** as the threshold using this method. \n",
    "\n",
    "<br>\n",
    "\n",
    "### 3. Use best f1-score\n",
    "\n",
    "The f1-score is the geometric average of precision and recall. We can compute precision and recall for a number of different thresholds then select the threshold that maximizes the f1-score. This is a suitable approach if your classification task weighs precision and recall equally. Although this isn't the case for our breast cancer classifier (we want to maximize recall since the cost of a false negative is high), the approach is demonstrated in the next cell:"
   ]
  },
  {
   "cell_type": "code",
   "execution_count": 7,
   "metadata": {},
   "outputs": [
    {
     "name": "stdout",
     "output_type": "stream",
     "text": [
      "Threshold using optimal f1-score: 0.475.\n"
     ]
    }
   ],
   "source": [
    "\n",
    "from sklearn.metrics import precision_recall_curve\n",
    "\n",
    "# Get precision and recall for various thresholds.\n",
    "p, r, thresh = precision_recall_curve(yvalid, ypred)\n",
    "\n",
    "# Compute f1-score for each threshold.\n",
    "f1 = 2 * (p * r) / (p + r)\n",
    "\n",
    "# Identify threshold that maximizes f1-score.\n",
    "best_thresh = thresh[np.argmax(f1)]\n",
    "\n",
    "print(f\"Threshold using optimal f1-score: {best_thresh:,.3f}.\")\n"
   ]
  },
  {
   "cell_type": "markdown",
   "metadata": {},
   "source": [
    "\n",
    "Using this method, we would set the discrimination threshold to **.475**, and would obtain the predicted class labels the same way as before:"
   ]
  },
  {
   "cell_type": "code",
   "execution_count": 17,
   "metadata": {},
   "outputs": [],
   "source": [
    "\n",
    "thresh = .475\n",
    "\n",
    "yhat = np.where(ypred <= thresh, 0, 1)\n"
   ]
  },
  {
   "cell_type": "markdown",
   "metadata": {},
   "source": [
    "### 4. Inspection of ROC curve\n",
    "\n",
    "The Receiver Operating Characteristic (ROC) curve plots the true positive rate (TPR) against the false positive rate (FPR) at various classification thresholds. Typically we're interested in using a threshold that maximizes TPR while minimizing FPR, which is the point (0, 1). The curve starts with a threshold of 1 at the far left and decreases towards 0 as the x-axis increases. \n",
    "\n",
    "We can plot the ROC curve in scikit-learn using the code below. Note that `ypred` are predicted probabilities and `yvalid` are class labels (1s or 0s).\n"
   ]
  },
  {
   "cell_type": "code",
   "execution_count": 18,
   "metadata": {},
   "outputs": [
    {
     "data": {
      "image/png": "[encoded data removed]",
      "text/plain": [
       "<Figure size 640x480 with 1 Axes>"
      ]
     },
     "metadata": {},
     "output_type": "display_data"
    }
   ],
   "source": [
    "\n",
    "from sklearn.metrics import RocCurveDisplay\n",
    "\n",
    "roc_disp = RocCurveDisplay.from_predictions(\n",
    "    yvalid, ypred, name=\"RandomForestClassifier\", color=\"#191964\"\n",
    "    )\n",
    "roc_disp.ax_.set_title(\"ROC curve\", fontsize=9)\n",
    "roc_disp.ax_.grid(True)\n",
    "plt.show()\n"
   ]
  },
  {
   "cell_type": "markdown",
   "metadata": {},
   "source": [
    "Using approach 4, the optimal threshold would be somewhere between .10 and .20, which is much lower than what is indicated using the other methods. Ultimately it is up to you to determine which threshold makes the most sense, but intuitively, a threshold of .20 seems much too low when the prevalence of the positive class in the training data is 62%. "
   ]
  },
  {
   "cell_type": "markdown",
   "metadata": {},
   "source": [
    "<br>\n",
    "\n",
    "### 5. Inspection of the precision-recall curve\n",
    "\n",
    "The precision-recall curve is a graphical representation used in binary classification to evaluate the performance of a classification model at different probability thresholds. This curve shows the trade-off between precision and recall for a number of different thresholds. The curve plots recall on the x-axis and precision on the y-axis.\n",
    "\n",
    "The curve starts from the rightmost part of the graph. As the threshold for classifying positive instances decreases, recall increases, and precision can either increase or decrease, but typically it decreases because the model starts to classify more instances as positive, including both true positives and false positives.\n",
    "\n",
    "The top-right corner of the graph (high precision, high recall) represents the ideal point, where the classifier perfectly identifies all positive cases with no false positives. Generally, we'd like to select a threshold that corresponds to a point closest to top-right corner of the graph.\n",
    "\n",
    "We can plot the Rprecision-recall curve in scikit-learn using the code below. Note that `ypred` are predicted probabilities and `yvalid` are class labels (1s or 0s).\n"
   ]
  },
  {
   "cell_type": "code",
   "execution_count": 19,
   "metadata": {},
   "outputs": [
    {
     "data": {
      "image/png": "[encoded data removed]",
      "text/plain": [
       "<Figure size 640x480 with 1 Axes>"
      ]
     },
     "metadata": {},
     "output_type": "display_data"
    }
   ],
   "source": [
    "\n",
    "from sklearn.metrics import PrecisionRecallDisplay\n",
    "\n",
    "pr_disp = PrecisionRecallDisplay.from_predictions(\n",
    "    yvalid, ypred, name=\"RandomForestClassifier\", color=\"#CD0066\"\n",
    "    )\n",
    "pr_disp.ax_.set_title(\"Precision-Recall curve\", fontsize=9)\n",
    "pr_disp.ax_.grid(True)\n",
    "plt.show()\n"
   ]
  },
  {
   "cell_type": "markdown",
   "metadata": {},
   "source": [
    "\n",
    "Based on the plot, would want to select the threshold that corresponds to a recall of about .95, since this is close to the point (1, 1). This can be determined using the following code:"
   ]
  },
  {
   "cell_type": "code",
   "execution_count": 11,
   "metadata": {},
   "outputs": [
    {
     "name": "stdout",
     "output_type": "stream",
     "text": [
      "Threshold using optimal precision-recall curve: 0.632.\n"
     ]
    }
   ],
   "source": [
    "\n",
    "from sklearn.metrics import precision_recall_curve\n",
    "\n",
    "p, r, thresh = precision_recall_curve(yvalid, ypred)\n",
    "\n",
    "best_thresh = thresh[np.where(r >= .95)[-1][-1]]\n",
    "\n",
    "print(f\"Threshold using optimal precision-recall curve: {best_thresh:,.3f}.\")\n"
   ]
  },
  {
   "cell_type": "markdown",
   "metadata": {},
   "source": [
    "<br>\n",
    "\n",
    "### 5. Inspection of precision and recall as a function of threshold\n",
    "\n",
    "It is also possible to plot precision and recall as two separate series against threshold on the x-axis. The goal is to identify a point where precision and recall intersect. Using this approach may be suitable in some scenarios."
   ]
  },
  {
   "cell_type": "code",
   "execution_count": 20,
   "metadata": {},
   "outputs": [
    {
     "data": {
      "image/png": "[encoded data removed]",
      "text/plain": [
       "<Figure size 650x400 with 1 Axes>"
      ]
     },
     "metadata": {},
     "output_type": "display_data"
    }
   ],
   "source": [
    "\n",
    "from sklearn.metrics import precision_recall_curve\n",
    "\n",
    "p, r, thresh = precision_recall_curve(yvalid, ypred)\n",
    "p, r = p[:-1], r[:-1]\n",
    "\n",
    "fig, ax =  plt.subplots(1, 1, figsize=(6.5, 4), tight_layout=True)\n",
    "ax.set_title(\"precision & recall vs. threshold\", fontsize=10)\n",
    "ax.plot(thresh, p, color=\"red\", linewidth=1.25, label=\"precision\")\n",
    "ax.plot(thresh, r, color=\"blue\", linewidth=1.25, label=\"recall\")\n",
    "ax.set_xlabel(\"threshold\", fontsize=8)\n",
    "# ax.set_xticks(np.arange(tmax+1))\n",
    "ax.tick_params(axis=\"x\", which=\"major\", direction=\"in\", labelsize=8)\n",
    "ax.tick_params(axis=\"y\", which=\"major\", direction=\"in\", labelsize=8)\n",
    "ax.xaxis.set_ticks_position(\"none\")\n",
    "ax.yaxis.set_ticks_position(\"none\")\n",
    "ax.grid(True)\n",
    "ax.legend(loc=\"upper right\", fancybox=True, framealpha=1, fontsize=\"medium\")\n",
    "\n",
    "plt.show()\n"
   ]
  },
  {
   "cell_type": "markdown",
   "metadata": {},
   "source": [
    "\n",
    "The precision and recall series intersect right after .60, therefore method \\#5 would set the threshold at roughly .60."
   ]
  },
  {
   "cell_type": "markdown",
   "metadata": {},
   "source": [
    "\n",
    "<br>\n",
    "\n",
    "### Assessing a Classifier\n",
    "\n",
    "\n",
    "Once a threshold has been selected, the predictive power of the classifier can be assessed. To do this, we will look at the confusion matrix as well as the `sklearn.metrics.classification_report`. Note that both diagnostics require actual and predicted labels. Once we've settled on a threshold, model assessment is performed comparing actual vs. predicted labels. In what follows, the 0.475 threshold obtained from method \\#3 will be used as the classification threshold. \n",
    "\n",
    "Technically, once we've decided on a threshold, we should then assess the performance of the model on a separate test set. However, for the purposes of demonstration, we are going to re-use the validation set. \n",
    "\n",
    "We start by creating the confusion matrix:"
   ]
  },
  {
   "cell_type": "code",
   "execution_count": 21,
   "metadata": {},
   "outputs": [
    {
     "data": {
      "image/png": "[encoded data removed]",
      "text/plain": [
       "<Figure size 640x480 with 1 Axes>"
      ]
     },
     "metadata": {},
     "output_type": "display_data"
    }
   ],
   "source": [
    "\n",
    "from sklearn.metrics import ConfusionMatrixDisplay\n",
    "\n",
    "# Determine predicted classes using the .531 threshold.\n",
    "thresh = .531\n",
    "yhat = np.where(ypred <= thresh, 0, 1)\n",
    "\n",
    "cm_disp = ConfusionMatrixDisplay.from_predictions(yvalid, yhat, colorbar=False)\n",
    "cm_disp.ax_.set_title(f\"mm confusion matrix (thresh={thresh:.3})\", fontsize=9)\n",
    "plt.show()"
   ]
  },
  {
   "cell_type": "markdown",
   "metadata": {},
   "source": [
    "\n",
    "The output indicates:\n",
    "\n",
    "- There are 75 True Positives (TP).\n",
    "- There are 35 True Negatives (TN).\n",
    "- There are 3 False Positives (FP).\n",
    "- There is 1 False Negative (FN).\n",
    "\n",
    "\n",
    "<br>\n",
    "\n",
    "Next we inspect the classification report. This also takes actual and predicted labels, and returns a summary of common classifier metrics:"
   ]
  },
  {
   "cell_type": "code",
   "execution_count": 22,
   "metadata": {},
   "outputs": [
    {
     "name": "stdout",
     "output_type": "stream",
     "text": [
      "              precision    recall  f1-score   support\n",
      "\n",
      "           0       0.97      0.92      0.95        38\n",
      "           1       0.96      0.99      0.97        76\n",
      "\n",
      "    accuracy                           0.96       114\n",
      "   macro avg       0.97      0.95      0.96       114\n",
      "weighted avg       0.97      0.96      0.96       114\n",
      "\n"
     ]
    }
   ],
   "source": [
    "\n",
    "from sklearn.metrics import classification_report\n",
    "\n",
    "print(classification_report(yvalid, yhat))\n"
   ]
  },
  {
   "cell_type": "markdown",
   "metadata": {},
   "source": [
    "\n",
    "Overall this is very good performance. "
   ]
  }
 ],
 "metadata": {
  "kernelspec": {
   "display_name": "module6",
   "language": "python",
   "name": "python3"
  },
  "language_info": {
   "codemirror_mode": {
    "name": "ipython",
    "version": 3
   },
   "file_extension": ".py",
   "mimetype": "text/x-python",
   "name": "python",
   "nbconvert_exporter": "python",
   "pygments_lexer": "ipython3",
   "version": "3.11.8"
  }
 },
 "nbformat": 4,
 "nbformat_minor": 2
}

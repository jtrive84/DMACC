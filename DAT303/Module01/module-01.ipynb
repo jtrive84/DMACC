{
 "cells": [
  {
   "cell_type": "markdown",
   "metadata": {},
   "source": [
    "### DAT303 - Spring 2024 - Module 1 Notebook\n",
    "---\n",
    "Name:   \n",
    "Date:  "
   ]
  },
  {
   "cell_type": "code",
   "execution_count": null,
   "metadata": {},
   "outputs": [],
   "source": [
    "\n",
    "import sys\n",
    "import numpy as np\n",
    "import pandas as pd\n",
    "import matplotlib as mpl\n",
    "\n",
    "\n",
    "# Ensure correct versions of Python and thirds-party libraries are installed. \n",
    "print(f\"Expected Python version: 3.11 - installed version: {str(sys.version_info.major) + '.' + str(sys.version_info.minor)}\")\n",
    "print(f\"Expected Numpy version: 1.26.3 - installed version: {np.__version__}\")\n",
    "print(f\"Expected Pandas version: 2.2.0 - installed version: {pd.__version__}\")\n",
    "print(f\"Expected Matplotlib version: 3.8.2 - installed version: {mpl.__version__}\")\n"
   ]
  }
 ],
 "metadata": {
  "kernelspec": {
   "display_name": "module1",
   "language": "python",
   "name": "python3"
  },
  "language_info": {
   "codemirror_mode": {
    "name": "ipython",
    "version": 3
   },
   "file_extension": ".py",
   "mimetype": "text/x-python",
   "name": "python",
   "nbconvert_exporter": "python",
   "pygments_lexer": "ipython3",
   "version": "3.11.8"
  }
 },
 "nbformat": 4,
 "nbformat_minor": 2
}
